{
  "nbformat": 4,
  "nbformat_minor": 0,
  "metadata": {
    "colab": {
      "provenance": []
    },
    "kernelspec": {
      "name": "python3",
      "display_name": "Python 3"
    },
    "language_info": {
      "name": "python"
    }
  },
  "cells": [
    {
      "cell_type": "markdown",
      "source": [
        "# Import Library"
      ],
      "metadata": {
        "id": "_qNxV3p5lxUF"
      }
    },
    {
      "cell_type": "code",
      "source": [
        "import pandas as pd\n",
        "from sklearn.model_selection import train_test_split, GridSearchCV\n",
        "from sklearn.preprocessing import StandardScaler, MinMaxScaler\n",
        "from sklearn.svm import SVR\n",
        "import numpy as np\n",
        "import pickle\n",
        "import joblib"
      ],
      "metadata": {
        "id": "AHUVMIvplw9a"
      },
      "execution_count": null,
      "outputs": []
    },
    {
      "cell_type": "markdown",
      "source": [
        "# Load dataset"
      ],
      "metadata": {
        "id": "E8HyChw7mSJJ"
      }
    },
    {
      "cell_type": "code",
      "source": [
        "# Load data dari Excel\n",
        "data = pd.read_excel('/content/dataset1.xlsx')\n",
        "\n",
        "data.head(9)"
      ],
      "metadata": {
        "colab": {
          "base_uri": "https://localhost:8080/",
          "height": 331
        },
        "id": "las5fJkymRHy",
        "outputId": "309975f3-7c1d-4b18-dc49-d72ea82a6606"
      },
      "execution_count": null,
      "outputs": [
        {
          "output_type": "execute_result",
          "data": {
            "text/plain": [
              "          x1         x2         x3        x4        x5        x6     y\n",
              "0  SBY - LBR   9.279396  12.110000  0.530000  7.000000  1.070000  7390\n",
              "1  LBR - SBY   9.623077   8.600000  2.748000  7.440000  1.180000  7770\n",
              "2  SBY - LBR   9.912903   8.125000  0.956250  7.287500  0.850000  7860\n",
              "3  LBR - SBY   9.388462   5.500000  1.116667  6.940000  0.833333  6713\n",
              "4  SBY - LBR  10.212500   9.571429  0.638571  5.522857  0.657143  7749\n",
              "5  LBR - SBY   9.260000   6.285714  0.291429  8.050000  0.685714  7110\n",
              "6  SBY - LBR   9.448718   8.888889  0.362222  5.411111  0.622222  7620\n",
              "7  LBR - SBY   9.687879   4.714286  0.278571  7.271429  0.700000  6800\n",
              "8  SBY - LBR   9.103571   7.125000  0.308750  7.425000  0.600000  7800"
            ],
            "text/html": [
              "\n",
              "\n",
              "  <div id=\"df-b04b1d0d-84ca-445a-bb23-ef80f9793c0d\">\n",
              "    <div class=\"colab-df-container\">\n",
              "      <div>\n",
              "<style scoped>\n",
              "    .dataframe tbody tr th:only-of-type {\n",
              "        vertical-align: middle;\n",
              "    }\n",
              "\n",
              "    .dataframe tbody tr th {\n",
              "        vertical-align: top;\n",
              "    }\n",
              "\n",
              "    .dataframe thead th {\n",
              "        text-align: right;\n",
              "    }\n",
              "</style>\n",
              "<table border=\"1\" class=\"dataframe\">\n",
              "  <thead>\n",
              "    <tr style=\"text-align: right;\">\n",
              "      <th></th>\n",
              "      <th>x1</th>\n",
              "      <th>x2</th>\n",
              "      <th>x3</th>\n",
              "      <th>x4</th>\n",
              "      <th>x5</th>\n",
              "      <th>x6</th>\n",
              "      <th>y</th>\n",
              "    </tr>\n",
              "  </thead>\n",
              "  <tbody>\n",
              "    <tr>\n",
              "      <th>0</th>\n",
              "      <td>SBY - LBR</td>\n",
              "      <td>9.279396</td>\n",
              "      <td>12.110000</td>\n",
              "      <td>0.530000</td>\n",
              "      <td>7.000000</td>\n",
              "      <td>1.070000</td>\n",
              "      <td>7390</td>\n",
              "    </tr>\n",
              "    <tr>\n",
              "      <th>1</th>\n",
              "      <td>LBR - SBY</td>\n",
              "      <td>9.623077</td>\n",
              "      <td>8.600000</td>\n",
              "      <td>2.748000</td>\n",
              "      <td>7.440000</td>\n",
              "      <td>1.180000</td>\n",
              "      <td>7770</td>\n",
              "    </tr>\n",
              "    <tr>\n",
              "      <th>2</th>\n",
              "      <td>SBY - LBR</td>\n",
              "      <td>9.912903</td>\n",
              "      <td>8.125000</td>\n",
              "      <td>0.956250</td>\n",
              "      <td>7.287500</td>\n",
              "      <td>0.850000</td>\n",
              "      <td>7860</td>\n",
              "    </tr>\n",
              "    <tr>\n",
              "      <th>3</th>\n",
              "      <td>LBR - SBY</td>\n",
              "      <td>9.388462</td>\n",
              "      <td>5.500000</td>\n",
              "      <td>1.116667</td>\n",
              "      <td>6.940000</td>\n",
              "      <td>0.833333</td>\n",
              "      <td>6713</td>\n",
              "    </tr>\n",
              "    <tr>\n",
              "      <th>4</th>\n",
              "      <td>SBY - LBR</td>\n",
              "      <td>10.212500</td>\n",
              "      <td>9.571429</td>\n",
              "      <td>0.638571</td>\n",
              "      <td>5.522857</td>\n",
              "      <td>0.657143</td>\n",
              "      <td>7749</td>\n",
              "    </tr>\n",
              "    <tr>\n",
              "      <th>5</th>\n",
              "      <td>LBR - SBY</td>\n",
              "      <td>9.260000</td>\n",
              "      <td>6.285714</td>\n",
              "      <td>0.291429</td>\n",
              "      <td>8.050000</td>\n",
              "      <td>0.685714</td>\n",
              "      <td>7110</td>\n",
              "    </tr>\n",
              "    <tr>\n",
              "      <th>6</th>\n",
              "      <td>SBY - LBR</td>\n",
              "      <td>9.448718</td>\n",
              "      <td>8.888889</td>\n",
              "      <td>0.362222</td>\n",
              "      <td>5.411111</td>\n",
              "      <td>0.622222</td>\n",
              "      <td>7620</td>\n",
              "    </tr>\n",
              "    <tr>\n",
              "      <th>7</th>\n",
              "      <td>LBR - SBY</td>\n",
              "      <td>9.687879</td>\n",
              "      <td>4.714286</td>\n",
              "      <td>0.278571</td>\n",
              "      <td>7.271429</td>\n",
              "      <td>0.700000</td>\n",
              "      <td>6800</td>\n",
              "    </tr>\n",
              "    <tr>\n",
              "      <th>8</th>\n",
              "      <td>SBY - LBR</td>\n",
              "      <td>9.103571</td>\n",
              "      <td>7.125000</td>\n",
              "      <td>0.308750</td>\n",
              "      <td>7.425000</td>\n",
              "      <td>0.600000</td>\n",
              "      <td>7800</td>\n",
              "    </tr>\n",
              "  </tbody>\n",
              "</table>\n",
              "</div>\n",
              "      <button class=\"colab-df-convert\" onclick=\"convertToInteractive('df-b04b1d0d-84ca-445a-bb23-ef80f9793c0d')\"\n",
              "              title=\"Convert this dataframe to an interactive table.\"\n",
              "              style=\"display:none;\">\n",
              "\n",
              "  <svg xmlns=\"http://www.w3.org/2000/svg\" height=\"24px\"viewBox=\"0 0 24 24\"\n",
              "       width=\"24px\">\n",
              "    <path d=\"M0 0h24v24H0V0z\" fill=\"none\"/>\n",
              "    <path d=\"M18.56 5.44l.94 2.06.94-2.06 2.06-.94-2.06-.94-.94-2.06-.94 2.06-2.06.94zm-11 1L8.5 8.5l.94-2.06 2.06-.94-2.06-.94L8.5 2.5l-.94 2.06-2.06.94zm10 10l.94 2.06.94-2.06 2.06-.94-2.06-.94-.94-2.06-.94 2.06-2.06.94z\"/><path d=\"M17.41 7.96l-1.37-1.37c-.4-.4-.92-.59-1.43-.59-.52 0-1.04.2-1.43.59L10.3 9.45l-7.72 7.72c-.78.78-.78 2.05 0 2.83L4 21.41c.39.39.9.59 1.41.59.51 0 1.02-.2 1.41-.59l7.78-7.78 2.81-2.81c.8-.78.8-2.07 0-2.86zM5.41 20L4 18.59l7.72-7.72 1.47 1.35L5.41 20z\"/>\n",
              "  </svg>\n",
              "      </button>\n",
              "\n",
              "\n",
              "\n",
              "    <div id=\"df-3d49b1c3-826a-4cc0-aef6-11fd49a24c65\">\n",
              "      <button class=\"colab-df-quickchart\" onclick=\"quickchart('df-3d49b1c3-826a-4cc0-aef6-11fd49a24c65')\"\n",
              "              title=\"Suggest charts.\"\n",
              "              style=\"display:none;\">\n",
              "\n",
              "<svg xmlns=\"http://www.w3.org/2000/svg\" height=\"24px\"viewBox=\"0 0 24 24\"\n",
              "     width=\"24px\">\n",
              "    <g>\n",
              "        <path d=\"M19 3H5c-1.1 0-2 .9-2 2v14c0 1.1.9 2 2 2h14c1.1 0 2-.9 2-2V5c0-1.1-.9-2-2-2zM9 17H7v-7h2v7zm4 0h-2V7h2v10zm4 0h-2v-4h2v4z\"/>\n",
              "    </g>\n",
              "</svg>\n",
              "      </button>\n",
              "    </div>\n",
              "\n",
              "<style>\n",
              "  .colab-df-quickchart {\n",
              "    background-color: #E8F0FE;\n",
              "    border: none;\n",
              "    border-radius: 50%;\n",
              "    cursor: pointer;\n",
              "    display: none;\n",
              "    fill: #1967D2;\n",
              "    height: 32px;\n",
              "    padding: 0 0 0 0;\n",
              "    width: 32px;\n",
              "  }\n",
              "\n",
              "  .colab-df-quickchart:hover {\n",
              "    background-color: #E2EBFA;\n",
              "    box-shadow: 0px 1px 2px rgba(60, 64, 67, 0.3), 0px 1px 3px 1px rgba(60, 64, 67, 0.15);\n",
              "    fill: #174EA6;\n",
              "  }\n",
              "\n",
              "  [theme=dark] .colab-df-quickchart {\n",
              "    background-color: #3B4455;\n",
              "    fill: #D2E3FC;\n",
              "  }\n",
              "\n",
              "  [theme=dark] .colab-df-quickchart:hover {\n",
              "    background-color: #434B5C;\n",
              "    box-shadow: 0px 1px 3px 1px rgba(0, 0, 0, 0.15);\n",
              "    filter: drop-shadow(0px 1px 2px rgba(0, 0, 0, 0.3));\n",
              "    fill: #FFFFFF;\n",
              "  }\n",
              "</style>\n",
              "\n",
              "    <script>\n",
              "      async function quickchart(key) {\n",
              "        const containerElement = document.querySelector('#' + key);\n",
              "        const charts = await google.colab.kernel.invokeFunction(\n",
              "            'suggestCharts', [key], {});\n",
              "      }\n",
              "    </script>\n",
              "\n",
              "      <script>\n",
              "\n",
              "function displayQuickchartButton(domScope) {\n",
              "  let quickchartButtonEl =\n",
              "    domScope.querySelector('#df-3d49b1c3-826a-4cc0-aef6-11fd49a24c65 button.colab-df-quickchart');\n",
              "  quickchartButtonEl.style.display =\n",
              "    google.colab.kernel.accessAllowed ? 'block' : 'none';\n",
              "}\n",
              "\n",
              "        displayQuickchartButton(document);\n",
              "      </script>\n",
              "      <style>\n",
              "    .colab-df-container {\n",
              "      display:flex;\n",
              "      flex-wrap:wrap;\n",
              "      gap: 12px;\n",
              "    }\n",
              "\n",
              "    .colab-df-convert {\n",
              "      background-color: #E8F0FE;\n",
              "      border: none;\n",
              "      border-radius: 50%;\n",
              "      cursor: pointer;\n",
              "      display: none;\n",
              "      fill: #1967D2;\n",
              "      height: 32px;\n",
              "      padding: 0 0 0 0;\n",
              "      width: 32px;\n",
              "    }\n",
              "\n",
              "    .colab-df-convert:hover {\n",
              "      background-color: #E2EBFA;\n",
              "      box-shadow: 0px 1px 2px rgba(60, 64, 67, 0.3), 0px 1px 3px 1px rgba(60, 64, 67, 0.15);\n",
              "      fill: #174EA6;\n",
              "    }\n",
              "\n",
              "    [theme=dark] .colab-df-convert {\n",
              "      background-color: #3B4455;\n",
              "      fill: #D2E3FC;\n",
              "    }\n",
              "\n",
              "    [theme=dark] .colab-df-convert:hover {\n",
              "      background-color: #434B5C;\n",
              "      box-shadow: 0px 1px 3px 1px rgba(0, 0, 0, 0.15);\n",
              "      filter: drop-shadow(0px 1px 2px rgba(0, 0, 0, 0.3));\n",
              "      fill: #FFFFFF;\n",
              "    }\n",
              "  </style>\n",
              "\n",
              "      <script>\n",
              "        const buttonEl =\n",
              "          document.querySelector('#df-b04b1d0d-84ca-445a-bb23-ef80f9793c0d button.colab-df-convert');\n",
              "        buttonEl.style.display =\n",
              "          google.colab.kernel.accessAllowed ? 'block' : 'none';\n",
              "\n",
              "        async function convertToInteractive(key) {\n",
              "          const element = document.querySelector('#df-b04b1d0d-84ca-445a-bb23-ef80f9793c0d');\n",
              "          const dataTable =\n",
              "            await google.colab.kernel.invokeFunction('convertToInteractive',\n",
              "                                                     [key], {});\n",
              "          if (!dataTable) return;\n",
              "\n",
              "          const docLinkHtml = 'Like what you see? Visit the ' +\n",
              "            '<a target=\"_blank\" href=https://colab.research.google.com/notebooks/data_table.ipynb>data table notebook</a>'\n",
              "            + ' to learn more about interactive tables.';\n",
              "          element.innerHTML = '';\n",
              "          dataTable['output_type'] = 'display_data';\n",
              "          await google.colab.output.renderOutput(dataTable, element);\n",
              "          const docLink = document.createElement('div');\n",
              "          docLink.innerHTML = docLinkHtml;\n",
              "          element.appendChild(docLink);\n",
              "        }\n",
              "      </script>\n",
              "    </div>\n",
              "  </div>\n"
            ]
          },
          "metadata": {},
          "execution_count": 2
        }
      ]
    },
    {
      "cell_type": "markdown",
      "source": [
        "#Normalisasi dan split dataset"
      ],
      "metadata": {
        "id": "2qpX228NmZzB"
      }
    },
    {
      "cell_type": "code",
      "source": [
        "# Pisahkan fitur dan target\n",
        "X = data[['x1', 'x2', 'x3', 'x4', 'x5', 'x6']]\n",
        "y = data['y']"
      ],
      "metadata": {
        "id": "-o_ZC1PjoXOS"
      },
      "execution_count": null,
      "outputs": []
    },
    {
      "cell_type": "code",
      "execution_count": null,
      "metadata": {
        "colab": {
          "base_uri": "https://localhost:8080/"
        },
        "id": "s8tHx-WMoAHF",
        "outputId": "802b2ccc-e436-48b7-b1d6-c70a41c0b6b4"
      },
      "outputs": [
        {
          "output_type": "stream",
          "name": "stdout",
          "text": [
            "Hasil One-Hot Encoding:\n",
            "          x2         x3        x4        x5        x6  x1_SBY - LBR\n",
            "0   9.279396  12.110000  0.530000  7.000000  1.070000             1\n",
            "1   9.623077   8.600000  2.748000  7.440000  1.180000             0\n",
            "2   9.912903   8.125000  0.956250  7.287500  0.850000             1\n",
            "3   9.388462   5.500000  1.116667  6.940000  0.833333             0\n",
            "4  10.212500   9.571429  0.638571  5.522857  0.657143             1\n"
          ]
        }
      ],
      "source": [
        "# Pengkodean one-hot untuk fitur 'route'\n",
        "X_encoded = pd.get_dummies(X, columns=['x1'], drop_first=True)\n",
        "\n",
        "# Tampilkan hasil one-hot encoding\n",
        "print(\"Hasil One-Hot Encoding:\")\n",
        "print(X_encoded.head())  # Tampilkan lima baris pertama dari data yang telah di-encode"
      ]
    },
    {
      "cell_type": "code",
      "source": [
        "# Bagi data menjadi data latih dan data uji\n",
        "X_train, X_test, y_train, y_test = train_test_split(X_encoded, y, test_size=0.2, random_state=42)\n",
        "\n",
        "# Scaling data\n",
        "scaler = MinMaxScaler()\n",
        "X_train_scaled = scaler.fit_transform(X_train)\n",
        "X_test_scaled = scaler.transform(X_test)\n",
        "joblib.dump(scaler, 'scaler.pkl')"
      ],
      "metadata": {
        "colab": {
          "base_uri": "https://localhost:8080/"
        },
        "id": "mjNc6FxyoFhy",
        "outputId": "7a17ab17-1ba1-471c-add5-726907648a1d"
      },
      "execution_count": null,
      "outputs": [
        {
          "output_type": "execute_result",
          "data": {
            "text/plain": [
              "['scaler.pkl']"
            ]
          },
          "metadata": {},
          "execution_count": 5
        }
      ]
    },
    {
      "cell_type": "code",
      "source": [
        "# menampilkan hasil normalisasi pada data training\n",
        "print(X_train_scaled[:5])"
      ],
      "metadata": {
        "colab": {
          "base_uri": "https://localhost:8080/"
        },
        "id": "DMdUw4txjOpY",
        "outputId": "151ee69b-9dbf-4bb2-ef4b-7d23956bf592"
      },
      "execution_count": null,
      "outputs": [
        {
          "output_type": "stream",
          "name": "stdout",
          "text": [
            "[[0.19703459 0.36800958 0.0908498  0.24254445 0.0703125  1.        ]\n",
            " [0.46704848 0.36800958 0.29025345 0.32986045 0.07714844 1.        ]\n",
            " [0.3452488  0.59163262 0.11077981 0.         0.08246528 1.        ]\n",
            " [0.18083768 0.13663896 0.13119642 0.07814949 0.08671875 0.        ]\n",
            " [0.67323516 0.67816393 0.21377988 0.01345823 0.1015625  1.        ]]\n"
          ]
        }
      ]
    },
    {
      "cell_type": "code",
      "source": [
        "# menampilkan hasil normalisasi pada data testing\n",
        "print(X_test_scaled[:5])"
      ],
      "metadata": {
        "colab": {
          "base_uri": "https://localhost:8080/"
        },
        "id": "Se-YDKedjSNM",
        "outputId": "14927714-6ed4-45c0-be25-bc47f245ff6d"
      },
      "execution_count": null,
      "outputs": [
        {
          "output_type": "stream",
          "name": "stdout",
          "text": [
            "[[ 0.35842946  0.13482784  0.21111762  0.17243357 -0.015625    0.        ]\n",
            " [ 0.60747961 -0.04628418  0.13817156  0.43911298  0.265625    1.        ]\n",
            " [ 0.6941869   0.11671664  0.04871945  0.09501051  0.1328125   1.        ]\n",
            " [ 0.58068127  0.25995979  0.18415613  0.0150849   0.08025568  1.        ]\n",
            " [ 0.82024362  0.03014509  0.07516462  0.3158096   0.25260417  1.        ]]\n"
          ]
        }
      ]
    },
    {
      "cell_type": "markdown",
      "source": [
        "# Modeling"
      ],
      "metadata": {
        "id": "l2hFRwgzmhhR"
      }
    },
    {
      "cell_type": "code",
      "source": [
        "# Model Training dan Evaluasi dengan Keempat Kernel dengan GridSearchCV\n",
        "kernels = ['linear', 'poly', 'rbf', 'sigmoid']\n",
        "models = {}\n",
        "\n",
        "for kernel in kernels:\n",
        "    svr_model = SVR(kernel=kernel)\n",
        "\n",
        "    # Set parameter grid untuk kernel tertentu\n",
        "    param_grid = {}\n",
        "    if kernel == 'linear':\n",
        "        param_grid = {'C': [0.1, 1, 10]}\n",
        "    elif kernel == 'poly':\n",
        "        param_grid = {'C': [0.1, 1, 10], 'degree': [2, 3, 4], 'coef0': [0.0, 0.1, 0.5], 'gamma': [0.01, 0.1, 1]}\n",
        "    elif kernel == 'rbf':\n",
        "        param_grid = {'C': [0.1, 1, 10], 'gamma': [0.01, 0.1, 1]}\n",
        "    elif kernel == 'sigmoid':\n",
        "        param_grid = {'C': [0.1, 1, 10], 'gamma': [0.01, 0.1, 1], 'coef0': [0.0, 0.1, 0.5]}\n",
        "\n",
        "    # GridSearchCV untuk mencari parameter optimal pada kernel tertentu\n",
        "    grid_search = GridSearchCV(svr_model, param_grid, cv=5, scoring='neg_mean_squared_error')\n",
        "    grid_search.fit(X_train_scaled, y_train)\n",
        "\n",
        "    best_model = grid_search.best_estimator_\n",
        "    y_pred = best_model.predict(X_test_scaled)\n",
        "\n",
        "    mape = np.mean(np.abs((y_test - y_pred) / y_test)) * 100\n",
        "\n",
        "    models[kernel] = best_model\n",
        "    print(f\"Kernel: {kernel}\")\n",
        "    print(f\"Best Parameters: {grid_search.best_params_}\")\n",
        "    print(f\"Mean Absolute Percentage Error: {mape}\")\n",
        "    print(\"-----------------------\")\n",
        "\n",
        "    # Simpan model ke dalam file menggunakan joblib\n",
        "    filename = f'model_{kernel}.pkl'\n",
        "    joblib.dump(best_model, filename)\n",
        "\n",
        "# Model terbaik berdasarkan R-squared tertinggi\n",
        "# Model terbaik berdasarkan MAPE terendah\n",
        "best_model_mape = models[min(models, key=lambda k: np.mean(np.abs((y_test - models[k].predict(X_test_scaled)) / y_test)) * 100)]\n",
        "\n",
        "print(\"Model Terbaik dengan MAPE terendah:\", best_model_mape.kernel)\n",
        "mape_best_model = np.mean(np.abs((y_test - best_model_mape.predict(X_test_scaled)) / y_test)) * 100\n",
        "print(\"MAPE terbaik:\", mape_best_model)"
      ],
      "metadata": {
        "colab": {
          "base_uri": "https://localhost:8080/"
        },
        "id": "wqpiVkK2mqzJ",
        "outputId": "2c7ff009-82aa-41ff-d1a8-2960d99dcf0b"
      },
      "execution_count": null,
      "outputs": [
        {
          "output_type": "stream",
          "name": "stdout",
          "text": [
            "Kernel: linear\n",
            "Best Parameters: {'C': 10}\n",
            "Mean Absolute Percentage Error: 3.0448920547548033\n",
            "-----------------------\n",
            "Kernel: poly\n",
            "Best Parameters: {'C': 1, 'coef0': 0.5, 'degree': 3, 'gamma': 1}\n",
            "Mean Absolute Percentage Error: 3.043486244940877\n",
            "-----------------------\n",
            "Kernel: rbf\n",
            "Best Parameters: {'C': 10, 'gamma': 1}\n",
            "Mean Absolute Percentage Error: 3.048020807648127\n",
            "-----------------------\n",
            "Kernel: sigmoid\n",
            "Best Parameters: {'C': 10, 'coef0': 0.0, 'gamma': 1}\n",
            "Mean Absolute Percentage Error: 3.0296954726319285\n",
            "-----------------------\n",
            "Model Terbaik dengan MAPE terendah: sigmoid\n",
            "MAPE terbaik: 3.0296954726319285\n"
          ]
        }
      ]
    },
    {
      "cell_type": "markdown",
      "source": [
        "# Rumus Setiap Model"
      ],
      "metadata": {
        "id": "96qb258yRrq5"
      }
    },
    {
      "cell_type": "markdown",
      "source": [
        "**Linear**"
      ],
      "metadata": {
        "id": "3tmtB6kQRuqm"
      }
    },
    {
      "cell_type": "code",
      "source": [
        "# Load model dari file yang telah diexport\n",
        "loaded_model = joblib.load('model_linear.pkl')\n",
        "\n",
        "# Menampilkan bobot (weights) dan bias (intercept) dari model SVR linear yang dimuat kembali\n",
        "w = loaded_model.coef_\n",
        "b = loaded_model.intercept_\n",
        "print(\"Bobot: \", w)\n",
        "print(\"Bias: \", b)\n",
        "print(\"-----------\")\n",
        "print(\"Rumus Model SVR dengan Kernel Linear:\")\n",
        "print(\"f(x) = \", end=\"\")\n",
        "for i in range(len(w)):\n",
        "    if i > 0:\n",
        "        print(\" + \", end=\"\")\n",
        "    print(f\"({w[i]} * x{i+1})\", end=\"\")\n",
        "print(f\" + ({b})\")"
      ],
      "metadata": {
        "colab": {
          "base_uri": "https://localhost:8080/"
        },
        "id": "HwR8TgFwR2h5",
        "outputId": "5bf51424-7fc3-49a1-c809-ad87c4e52c11"
      },
      "execution_count": null,
      "outputs": [
        {
          "output_type": "stream",
          "name": "stdout",
          "text": [
            "Bobot:  [[-10.87700126   7.53222591  -3.03935824  -0.21988458   7.98098035\n",
            "   11.98470078]]\n",
            "Bias:  [7447.7666779]\n",
            "-----------\n",
            "Rumus Model SVR dengan Kernel Linear:\n",
            "f(x) = ([-10.87700126   7.53222591  -3.03935824  -0.21988458   7.98098035\n",
            "  11.98470078] * x1) + ([7447.7666779])\n"
          ]
        }
      ]
    },
    {
      "cell_type": "markdown",
      "source": [
        "**Polinomial**"
      ],
      "metadata": {
        "id": "BuPl9z-sST6T"
      }
    },
    {
      "cell_type": "code",
      "source": [
        "loaded_model_poly = joblib.load('model_poly.pkl')\n",
        "\n",
        "# Mendapatkan nilai gamma, coef0, dan derajat polinomial dari model yang dimuat kembali\n",
        "gamma = loaded_model_poly.gamma\n",
        "coef0 = loaded_model_poly.coef0\n",
        "degree = loaded_model_poly.degree\n",
        "\n",
        "print(\"gamma: \", gamma)\n",
        "print(\"coef0: \", coef0)\n",
        "print(\"degree: \", degree)\n",
        "print(\"-----------\")\n",
        "\n",
        "print(\"Rumus Model SVR dengan Kernel Polinomial:\")\n",
        "print(f\"f(x) = (gamma * <x, x'> + {coef0})^{degree}\")"
      ],
      "metadata": {
        "colab": {
          "base_uri": "https://localhost:8080/"
        },
        "id": "f6vk9o_aSOxp",
        "outputId": "88182b7e-2add-4c32-da2f-c90965e54862"
      },
      "execution_count": null,
      "outputs": [
        {
          "output_type": "stream",
          "name": "stdout",
          "text": [
            "gamma:  1\n",
            "coef0:  0.5\n",
            "degree:  3\n",
            "-----------\n",
            "Rumus Model SVR dengan Kernel Polinomial:\n",
            "f(x) = (gamma * <x, x'> + 0.5)^3\n"
          ]
        }
      ]
    },
    {
      "cell_type": "markdown",
      "source": [
        "**RBF**"
      ],
      "metadata": {
        "id": "85wkUl5XSuIO"
      }
    },
    {
      "cell_type": "code",
      "source": [
        "loaded_model_rbf = joblib.load('model_rbf.pkl')\n",
        "\n",
        "# Mendapatkan nilai gamma dari model yang dimuat kembali\n",
        "gamma = loaded_model_rbf.gamma\n",
        "print(\"gamma: \", gamma)\n",
        "print(\"-----------\")\n",
        "\n",
        "print(\"Rumus Model SVR dengan Kernel RBF:\")\n",
        "print(f\"f(x) = sum_i (alpha_i * exp(-{gamma} * ||x - x_i||^2)) + b\")"
      ],
      "metadata": {
        "colab": {
          "base_uri": "https://localhost:8080/"
        },
        "id": "yd86HdBxSpX1",
        "outputId": "9b4a0f7f-2bc1-4d45-a6d4-14f145fdfa43"
      },
      "execution_count": null,
      "outputs": [
        {
          "output_type": "stream",
          "name": "stdout",
          "text": [
            "gamma:  1\n",
            "-----------\n",
            "Rumus Model SVR dengan Kernel RBF:\n",
            "f(x) = sum_i (alpha_i * exp(-1 * ||x - x_i||^2)) + b\n"
          ]
        }
      ]
    },
    {
      "cell_type": "markdown",
      "source": [
        "**Sigmoid**"
      ],
      "metadata": {
        "id": "321tKFXyS3Q1"
      }
    },
    {
      "cell_type": "code",
      "source": [
        "# Load model dari file yang telah diexport (misalnya, model dengan kernel sigmoid)\n",
        "loaded_model_sigmoid = joblib.load('model_sigmoid.pkl')\n",
        "\n",
        "# Mendapatkan nilai gamma dan coef0 dari model yang dimuat kembali\n",
        "gamma = loaded_model_sigmoid.gamma\n",
        "coef0 = loaded_model_sigmoid.coef0\n",
        "\n",
        "print(\"gamma: \", gamma)\n",
        "print(\"coef0: \", coef0)\n",
        "print(\"-----------\")\n",
        "\n",
        "\n",
        "print(\"Rumus Model SVR dengan Kernel Sigmoid:\")\n",
        "print(f\"f(x) = tanh({gamma} * <x, x'> + {coef0})\")"
      ],
      "metadata": {
        "colab": {
          "base_uri": "https://localhost:8080/"
        },
        "id": "gfvVMBUOS2tS",
        "outputId": "06e0a3aa-6ca5-4e27-94fe-51c3eadc55e3"
      },
      "execution_count": null,
      "outputs": [
        {
          "output_type": "stream",
          "name": "stdout",
          "text": [
            "gamma:  1\n",
            "coef0:  0.0\n",
            "-----------\n",
            "Rumus Model SVR dengan Kernel Sigmoid:\n",
            "f(x) = tanh(1 * <x, x'> + 0.0)\n"
          ]
        }
      ]
    },
    {
      "cell_type": "markdown",
      "source": [
        "# Inferensi ke data baru\n"
      ],
      "metadata": {
        "id": "E9mErD67tthz"
      }
    },
    {
      "cell_type": "code",
      "source": [
        "# 1 = SBY-LBR, 2= LBR SBY\n",
        "data_baru_scaled = np.array([[1, 9.3, 5.5, 1.11, 6.94, 0.83]]).reshape(1, -1)\n",
        "scaler = MinMaxScaler()\n",
        "data_baru_scaled =  scaler.fit_transform(data_baru_scaled)"
      ],
      "metadata": {
        "id": "1IxGJqs8txG8"
      },
      "execution_count": null,
      "outputs": []
    },
    {
      "cell_type": "code",
      "source": [
        "# Load model terbaik yang telah Anda simpan menggunakan pickle\n",
        "best_model_filename = 'model_sigmoid.pkl'\n",
        "best_model = joblib.load(best_model_filename)"
      ],
      "metadata": {
        "id": "9mOSvuaKyF4G"
      },
      "execution_count": null,
      "outputs": []
    },
    {
      "cell_type": "code",
      "source": [
        "# Lakukan prediksi nilai target (ship fuel consumption) pada data baru\n",
        "prediction = best_model.predict(data_baru_scaled)\n",
        "\n",
        "# Cetak hasil prediksi\n",
        "print(\"Hasil Prediksi Ship Fuel Consumption:\")\n",
        "print(prediction[0])"
      ],
      "metadata": {
        "colab": {
          "base_uri": "https://localhost:8080/"
        },
        "id": "5Klw053fyH6B",
        "outputId": "51b5bf48-b77d-4571-f7e3-af13a95dae39"
      },
      "execution_count": null,
      "outputs": [
        {
          "output_type": "stream",
          "name": "stdout",
          "text": [
            "Hasil Prediksi Ship Fuel Consumption:\n",
            "7448.612068146467\n"
          ]
        }
      ]
    }
  ]
}